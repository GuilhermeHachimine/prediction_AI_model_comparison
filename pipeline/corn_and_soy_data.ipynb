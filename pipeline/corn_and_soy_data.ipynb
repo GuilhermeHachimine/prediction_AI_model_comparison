{
 "cells": [
  {
   "cell_type": "code",
   "execution_count": 1,
   "metadata": {},
   "outputs": [
    {
     "data": {
      "text/html": [
       "<div>\n",
       "<style scoped>\n",
       "    .dataframe tbody tr th:only-of-type {\n",
       "        vertical-align: middle;\n",
       "    }\n",
       "\n",
       "    .dataframe tbody tr th {\n",
       "        vertical-align: top;\n",
       "    }\n",
       "\n",
       "    .dataframe thead th {\n",
       "        text-align: right;\n",
       "    }\n",
       "</style>\n",
       "<table border=\"1\" class=\"dataframe\">\n",
       "  <thead>\n",
       "    <tr style=\"text-align: right;\">\n",
       "      <th></th>\n",
       "      <th>id</th>\n",
       "      <th>product_id</th>\n",
       "      <th>main_location_id</th>\n",
       "      <th>date</th>\n",
       "      <th>avg_price</th>\n",
       "      <th>ask</th>\n",
       "      <th>bid</th>\n",
       "      <th>created_at</th>\n",
       "      <th>main_location</th>\n",
       "      <th>updated_at</th>\n",
       "    </tr>\n",
       "  </thead>\n",
       "  <tbody>\n",
       "    <tr>\n",
       "      <th>0</th>\n",
       "      <td>1</td>\n",
       "      <td>2</td>\n",
       "      <td>13</td>\n",
       "      <td>2021-06-01</td>\n",
       "      <td>98.260000</td>\n",
       "      <td>100.930014</td>\n",
       "      <td>96.294925</td>\n",
       "      <td>2021-08-02 14:51:46</td>\n",
       "      <td>NaN</td>\n",
       "      <td>2023-08-29 19:11:02</td>\n",
       "    </tr>\n",
       "    <tr>\n",
       "      <th>1</th>\n",
       "      <td>2</td>\n",
       "      <td>2</td>\n",
       "      <td>19</td>\n",
       "      <td>2021-06-01</td>\n",
       "      <td>94.195602</td>\n",
       "      <td>94.378171</td>\n",
       "      <td>92.635796</td>\n",
       "      <td>2021-08-02 14:51:46</td>\n",
       "      <td>NaN</td>\n",
       "      <td>2023-08-29 19:11:02</td>\n",
       "    </tr>\n",
       "    <tr>\n",
       "      <th>2</th>\n",
       "      <td>3</td>\n",
       "      <td>1</td>\n",
       "      <td>6</td>\n",
       "      <td>2021-06-02</td>\n",
       "      <td>161.750335</td>\n",
       "      <td>NaN</td>\n",
       "      <td>NaN</td>\n",
       "      <td>2021-08-02 14:51:46</td>\n",
       "      <td>NaN</td>\n",
       "      <td>2023-08-29 19:11:02</td>\n",
       "    </tr>\n",
       "    <tr>\n",
       "      <th>3</th>\n",
       "      <td>4</td>\n",
       "      <td>1</td>\n",
       "      <td>14</td>\n",
       "      <td>2021-06-23</td>\n",
       "      <td>154.148640</td>\n",
       "      <td>NaN</td>\n",
       "      <td>NaN</td>\n",
       "      <td>2021-08-02 14:51:46</td>\n",
       "      <td>NaN</td>\n",
       "      <td>2023-08-29 19:11:02</td>\n",
       "    </tr>\n",
       "    <tr>\n",
       "      <th>4</th>\n",
       "      <td>5</td>\n",
       "      <td>2</td>\n",
       "      <td>6</td>\n",
       "      <td>2021-05-31</td>\n",
       "      <td>77.375000</td>\n",
       "      <td>NaN</td>\n",
       "      <td>NaN</td>\n",
       "      <td>2021-08-02 14:51:46</td>\n",
       "      <td>NaN</td>\n",
       "      <td>2023-08-29 19:11:02</td>\n",
       "    </tr>\n",
       "  </tbody>\n",
       "</table>\n",
       "</div>"
      ],
      "text/plain": [
       "   id  product_id  main_location_id        date   avg_price         ask  \\\n",
       "0   1           2                13  2021-06-01   98.260000  100.930014   \n",
       "1   2           2                19  2021-06-01   94.195602   94.378171   \n",
       "2   3           1                 6  2021-06-02  161.750335         NaN   \n",
       "3   4           1                14  2021-06-23  154.148640         NaN   \n",
       "4   5           2                 6  2021-05-31   77.375000         NaN   \n",
       "\n",
       "         bid           created_at  main_location           updated_at  \n",
       "0  96.294925  2021-08-02 14:51:46            NaN  2023-08-29 19:11:02  \n",
       "1  92.635796  2021-08-02 14:51:46            NaN  2023-08-29 19:11:02  \n",
       "2        NaN  2021-08-02 14:51:46            NaN  2023-08-29 19:11:02  \n",
       "3        NaN  2021-08-02 14:51:46            NaN  2023-08-29 19:11:02  \n",
       "4        NaN  2021-08-02 14:51:46            NaN  2023-08-29 19:11:02  "
      ]
     },
     "execution_count": 1,
     "metadata": {},
     "output_type": "execute_result"
    }
   ],
   "source": [
    "import pandas as pd\n",
    "\n",
    "# Ler o arquivo CSV usando o caminho relativo\n",
    "df = pd.read_csv('../data/PM_DATABASE.csv')\n",
    "df.head()"
   ]
  },
  {
   "cell_type": "code",
   "execution_count": 4,
   "metadata": {},
   "outputs": [
    {
     "name": "stdout",
     "output_type": "stream",
     "text": [
      "   id  product_id  main_location_id        date   avg_price  ask  bid  \\\n",
      "2   3           1                 6  2021-06-02  161.750335  NaN  NaN   \n",
      "3   4           1                14  2021-06-23  154.148640  NaN  NaN   \n",
      "5   6           1                16  2021-06-07  166.711334  NaN  NaN   \n",
      "6   7           1                 1  2021-07-05  157.000000  NaN  NaN   \n",
      "7   8           1                14  2021-06-08  171.910038  NaN  NaN   \n",
      "\n",
      "            created_at  main_location           updated_at  \n",
      "2  2021-08-02 14:51:46            NaN  2023-08-29 19:11:02  \n",
      "3  2021-08-02 14:51:46            NaN  2023-08-29 19:11:02  \n",
      "5  2021-08-02 14:51:46            NaN  2023-08-29 19:11:02  \n",
      "6  2021-08-02 14:51:46            NaN  2023-08-29 19:11:02  \n",
      "7  2021-08-02 14:51:46            NaN  2023-08-29 19:11:02  \n"
     ]
    }
   ],
   "source": [
    "filtered_df = df[df['product_id'] == 1]\n",
    "\n",
    "# Salvar o DataFrame filtrado em um novo arquivo CSV\n",
    "filtered_df.to_csv('../data/corn_prices.csv', index=False)\n",
    "\n",
    "# Exibir as primeiras linhas do DataFrame filtrado\n",
    "print(filtered_df.head())"
   ]
  },
  {
   "cell_type": "code",
   "execution_count": 6,
   "metadata": {},
   "outputs": [
    {
     "name": "stdout",
     "output_type": "stream",
     "text": [
      "    id  product_id  main_location_id        date  avg_price         ask  \\\n",
      "0    1           2                13  2021-06-01  98.260000  100.930014   \n",
      "1    2           2                19  2021-06-01  94.195602   94.378171   \n",
      "4    5           2                 6  2021-05-31  77.375000         NaN   \n",
      "10  11           2                11  2021-07-08  87.000000         NaN   \n",
      "12  13           2                 8  2021-06-02  75.114286         NaN   \n",
      "\n",
      "          bid           created_at  main_location           updated_at  \n",
      "0   96.294925  2021-08-02 14:51:46            NaN  2023-08-29 19:11:02  \n",
      "1   92.635796  2021-08-02 14:51:46            NaN  2023-08-29 19:11:02  \n",
      "4         NaN  2021-08-02 14:51:46            NaN  2023-08-29 19:11:02  \n",
      "10        NaN  2021-08-02 14:51:46            NaN  2023-08-29 19:11:02  \n",
      "12        NaN  2021-08-02 14:51:46            NaN  2023-08-29 19:11:02  \n"
     ]
    }
   ],
   "source": [
    "# Filtrar o DataFrame pelo product_id = 2\n",
    "filtered_df_product_2 = df[df['product_id'] == 2]\n",
    "\n",
    "# Salvar o DataFrame filtrado em um novo arquivo CSV\n",
    "filtered_df_product_2.to_csv('../data/soy_prices.csv', index=False)\n",
    "\n",
    "# Exibir as primeiras linhas do DataFrame filtrado\n",
    "print(filtered_df_product_2.head())"
   ]
  }
 ],
 "metadata": {
  "kernelspec": {
   "display_name": "Python 3",
   "language": "python",
   "name": "python3"
  },
  "language_info": {
   "codemirror_mode": {
    "name": "ipython",
    "version": 3
   },
   "file_extension": ".py",
   "mimetype": "text/x-python",
   "name": "python",
   "nbconvert_exporter": "python",
   "pygments_lexer": "ipython3",
   "version": "3.12.6"
  }
 },
 "nbformat": 4,
 "nbformat_minor": 2
}
