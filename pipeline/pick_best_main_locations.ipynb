{
 "cells": [
  {
   "cell_type": "code",
   "execution_count": 6,
   "metadata": {},
   "outputs": [
    {
     "name": "stdout",
     "output_type": "stream",
     "text": [
      "    main_location_id  distinct_date_count\n",
      "0                 13                  736\n",
      "1                  6                  736\n",
      "2                 20                  735\n",
      "3                 19                  735\n",
      "4                 15                  735\n",
      "5                 11                  735\n",
      "6                 10                  735\n",
      "7                  9                  735\n",
      "8                  7                  735\n",
      "9                  4                  734\n",
      "10                 3                  734\n",
      "11                 2                  734\n",
      "12                 1                  734\n",
      "13                12                  733\n",
      "14                 8                  733\n",
      "15                21                  731\n",
      "16                 5                  729\n",
      "17                16                  728\n",
      "18                25                  726\n",
      "19                24                  726\n",
      "20                23                  726\n",
      "21                22                  726\n",
      "22                14                  433\n"
     ]
    }
   ],
   "source": [
    "import pandas as pd\n",
    "import os\n",
    "\n",
    "# Ler o arquivo CSV usando o caminho relativo\n",
    "df = pd.read_csv('../data/soy_prices.csv')\n",
    "\n",
    "# Agrupar os dados por 'main_location_id' e contar as datas distintas\n",
    "distinct_dates_count = df.groupby('main_location_id')['date'].nunique().reset_index()\n",
    "\n",
    "# Renomear a coluna 'date' para 'distinct_date_count'\n",
    "distinct_dates_count = distinct_dates_count.rename(columns={'date': 'distinct_date_count'})\n",
    "\n",
    "# Ordenar os resultados pela contagem de datas distintas em ordem decrescente e depois por 'main_location_id' em ordem decrescente\n",
    "sorted_locations = distinct_dates_count.sort_values(by=['distinct_date_count', 'main_location_id'], ascending=[False, False])\n",
    "\n",
    "# Redefinir o índice do DataFrame\n",
    "sorted_locations = sorted_locations.reset_index(drop=True)\n",
    "\n",
    "print(sorted_locations)"
   ]
  },
  {
   "cell_type": "code",
   "execution_count": 5,
   "metadata": {},
   "outputs": [
    {
     "name": "stdout",
     "output_type": "stream",
     "text": [
      "    main_location_id  distinct_date_count\n",
      "0                 19                  738\n",
      "1                  6                  736\n",
      "2                  2                  736\n",
      "3                 20                  735\n",
      "4                 18                  735\n",
      "5                 16                  735\n",
      "6                 14                  735\n",
      "7                 11                  735\n",
      "8                 10                  735\n",
      "9                  9                  735\n",
      "10                 3                  735\n",
      "11                 1                  735\n",
      "12                21                  734\n",
      "13                 8                  734\n",
      "14                 7                  734\n",
      "15                15                  733\n",
      "16                12                  733\n",
      "17                 4                  732\n",
      "18                17                  731\n",
      "19                 5                  731\n",
      "20                13                  729\n",
      "21                25                  726\n",
      "22                24                  726\n",
      "23                23                  726\n",
      "24                22                  726\n"
     ]
    }
   ],
   "source": [
    "import pandas as pd\n",
    "import os\n",
    "\n",
    "# Ler o arquivo CSV usando o caminho relativo\n",
    "df = pd.read_csv('../data/corn_prices.csv')\n",
    "\n",
    "# Agrupar os dados por 'main_location_id' e contar as datas distintas\n",
    "distinct_dates_count = df.groupby('main_location_id')['date'].nunique().reset_index()\n",
    "\n",
    "# Renomear a coluna 'date' para 'distinct_date_count'\n",
    "distinct_dates_count = distinct_dates_count.rename(columns={'date': 'distinct_date_count'})\n",
    "\n",
    "# Ordenar os resultados pela contagem de datas distintas em ordem decrescente e depois por 'main_location_id' em ordem decrescente\n",
    "sorted_locations = distinct_dates_count.sort_values(by=['distinct_date_count', 'main_location_id'], ascending=[False, False])\n",
    "\n",
    "# Redefinir o índice do DataFrame\n",
    "sorted_locations = sorted_locations.reset_index(drop=True)\n",
    "\n",
    "print(sorted_locations)"
   ]
  }
 ],
 "metadata": {
  "kernelspec": {
   "display_name": "Python 3",
   "language": "python",
   "name": "python3"
  },
  "language_info": {
   "codemirror_mode": {
    "name": "ipython",
    "version": 3
   },
   "file_extension": ".py",
   "mimetype": "text/x-python",
   "name": "python",
   "nbconvert_exporter": "python",
   "pygments_lexer": "ipython3",
   "version": "3.12.6"
  }
 },
 "nbformat": 4,
 "nbformat_minor": 2
}
